{
 "cells": [
  {
   "cell_type": "code",
   "execution_count": 23,
   "id": "0952296c-466d-4f11-a028-508070b7c96c",
   "metadata": {},
   "outputs": [
    {
     "name": "stdout",
     "output_type": "stream",
     "text": [
      "Import Successful\n"
     ]
    }
   ],
   "source": [
    "import numpy as np\n",
    "import pandas as pd\n",
    "from sklearn.feature_extraction.text import TfidfVectorizer\n",
    "from sklearn.metrics.pairwise import cosine_similarity\n",
    "import matplotlib.pyplot as plt\n",
    "print(\"Import Successful\")"
   ]
  },
  {
   "cell_type": "code",
   "execution_count": 16,
   "id": "95e093ea-4eb5-4933-a944-a1597107d06f",
   "metadata": {},
   "outputs": [
    {
     "name": "stdout",
     "output_type": "stream",
     "text": [
      "Data Imported Successfully\n"
     ]
    }
   ],
   "source": [
    "df=pd.read_csv(r\"C:\\Users\\malik\\Desktop\\Analyse de donnees\\netflix.csv\")\n",
    "print(\"Data Imported Successfully\")"
   ]
  },
  {
   "cell_type": "code",
   "execution_count": 17,
   "id": "3e1ec31b-f5eb-4181-8b5c-4391f5b450c5",
   "metadata": {},
   "outputs": [
    {
     "name": "stdout",
     "output_type": "stream",
     "text": [
      "Index(['show_id', 'type', 'title', 'director', 'cast', 'country', 'date_added',\n",
      "       'release_year', 'rating', 'duration', 'listed_in', 'description'],\n",
      "      dtype='object')\n"
     ]
    }
   ],
   "source": [
    "print(df.columns)\n"
   ]
  },
  {
   "cell_type": "code",
   "execution_count": 18,
   "id": "b5ee4f09-cfb3-4628-8b31-32fd880285f7",
   "metadata": {},
   "outputs": [
    {
     "name": "stdout",
     "output_type": "stream",
     "text": [
      "Top 5 des meilleures catégories :\n",
      "listed_in\n",
      "Dramas, International Movies                        362\n",
      "Documentaries                                       359\n",
      "Stand-Up Comedy                                     334\n",
      "Comedies, Dramas, International Movies              274\n",
      "Dramas, Independent Movies, International Movies    252\n",
      "Name: count, dtype: int64\n"
     ]
    }
   ],
   "source": [
    "top_categories = df['listed_in'].value_counts().head(5)\n",
    "\n",
    "print(\"Top 5 des meilleures catégories :\")\n",
    "print(top_categories)\n"
   ]
  },
  {
   "cell_type": "code",
   "execution_count": 19,
   "id": "792558c4-188b-44a1-bc0b-a510af6c12b6",
   "metadata": {},
   "outputs": [
    {
     "name": "stdout",
     "output_type": "stream",
     "text": [
      "Top 5 des réalisateurs :\n",
      "director\n",
      "Rajiv Chilaka             19\n",
      "Raúl Campos, Jan Suter    18\n",
      "Marcus Raboy              16\n",
      "Suhas Kadav               16\n",
      "Jay Karas                 14\n",
      "Name: count, dtype: int64\n"
     ]
    }
   ],
   "source": [
    "top_directors = df['director'].value_counts().head(5)\n",
    "\n",
    "print(\"Top 5 des réalisateurs :\")\n",
    "print(top_directors)\n"
   ]
  },
  {
   "cell_type": "code",
   "execution_count": 11,
   "id": "e311bbe9-3e87-4cf1-943c-18046498e7ee",
   "metadata": {},
   "outputs": [
    {
     "name": "stdout",
     "output_type": "stream",
     "text": [
      "Top 10 des meilleurs acteurs :\n",
      "cast\n",
      "David Attenborough                                                                                                        19\n",
      "Vatsal Dubey, Julie Tejwani, Rupa Bhimani, Jigna Bhardwaj, Rajesh Kava, Mousam, Swapnil                                   14\n",
      "Samuel West                                                                                                               10\n",
      "Jeff Dunham                                                                                                                7\n",
      "David Spade, London Hughes, Fortune Feimster                                                                               6\n",
      "Kevin Hart                                                                                                                 6\n",
      "Craig Sechler                                                                                                              6\n",
      "Michela Luci, Jamie Watson, Eric Peterson, Anna Claire Bartlam, Nicolas Aqui, Cory Doran, Julie Lemieux, Derek McGrath     6\n",
      "Bill Burr                                                                                                                  5\n",
      "Iliza Shlesinger                                                                                                           5\n",
      "Name: count, dtype: int64\n"
     ]
    }
   ],
   "source": [
    "top_actors = df['cast'].value_counts().head(10)\n",
    "\n",
    "print(\"Top 10 des meilleurs acteurs :\")\n",
    "print(top_actors)\n"
   ]
  },
  {
   "cell_type": "code",
   "execution_count": 20,
   "id": "a3520517-2dda-4ed6-b5ca-eb07d3ce4b9b",
   "metadata": {},
   "outputs": [
    {
     "name": "stdout",
     "output_type": "stream",
     "text": [
      "Les cinq meilleures séries télévisées avec le plus grand nombre de saisons :\n",
      "                              title   duration\n",
      "1480                     Still Game  9 Seasons\n",
      "6504       Club Friday The Series 6  9 Seasons\n",
      "67                Saved by the Bell  9 Seasons\n",
      "1998               Call the Midwife  9 Seasons\n",
      "8     The Great British Baking Show  9 Seasons\n"
     ]
    }
   ],
   "source": [
    "tv_shows = df[df['type'] == 'TV Show']\n",
    "\n",
    "top_tv_shows = tv_shows.sort_values(by='duration', ascending=False).head(5)\n",
    "\n",
    "print(\"Les cinq meilleures séries télévisées avec le plus grand nombre de saisons :\")\n",
    "print(top_tv_shows[['title', 'duration']])\n"
   ]
  },
  {
   "cell_type": "code",
   "execution_count": 22,
   "id": "60beeefe-8b96-479c-ac28-d8e03bd954a9",
   "metadata": {},
   "outputs": [
    {
     "name": "stdout",
     "output_type": "stream",
     "text": [
      "Contenus similaires pour 'Dick Johnson Is Dead':\n",
      "End Game\n",
      "The Soul\n",
      "Moon\n",
      "The Cloverfield Paradox\n",
      "The Death and Life of Marsha P. Johnson\n"
     ]
    }
   ],
   "source": [
    "df['description'] = df['description'].fillna('')\n",
    "\n",
    "tfidf_vectorizer = TfidfVectorizer(stop_words='english')\n",
    "\n",
    "tfidf_matrix = tfidf_vectorizer.fit_transform(df['description'])\n",
    "\n",
    "cosine_similarities = cosine_similarity(tfidf_matrix, tfidf_matrix)\n",
    "\n",
    "content_index = 0\n",
    "\n",
    "similar_content_indices = np.argsort(cosine_similarities[content_index])[::-1][1:6]\n",
    "\n",
    "print(\"Contenus similaires pour '{}':\".format(df.iloc[content_index]['title']))\n",
    "for idx in similar_content_indices:\n",
    "    print(df.iloc[idx]['title'])\n"
   ]
  },
  {
   "cell_type": "code",
   "execution_count": 30,
   "id": "3efdbb89-2a16-4e57-a570-5ee78f8c3dec",
   "metadata": {},
   "outputs": [
    {
     "data": {
      "image/png": "[encoded data removed]",
      "text/plain": [
       "<Figure size 1200x600 with 1 Axes>"
      ]
     },
     "metadata": {},
     "output_type": "display_data"
    }
   ],
   "source": [
    "df = pd.read_csv(r\"C:\\Users\\malik\\Desktop\\Analyse de donnees\\netflix.csv\")\n",
    "\n",
    "df['date_added'] = pd.to_datetime(df['date_added'], format='%B %d, %Y', errors='coerce')\n",
    "\n",
    "df['year_added'] = df['date_added'].dt.year\n",
    "\n",
    "df = df.dropna(subset=['date_added'])\n",
    "\n",
    "tv_shows_mask = df['type'] == 'TV Show'\n",
    "\n",
    "movies_mask = df['type'] == 'Movie'\n",
    "\n",
    "tv_shows_count = df[tv_shows_mask].groupby('year_added').size()\n",
    "\n",
    "movies_count = df[movies_mask].groupby('year_added').size()\n",
    "\n",
    "content_count_df = pd.DataFrame({\n",
    "    'TV Shows': tv_shows_count,\n",
    "    'Movies': movies_count\n",
    "}).fillna(0)  # Remplacer NaN par 0 pour les années sans données\n",
    "\n",
    "content_count_df.plot(kind='bar', stacked=True, figsize=(12, 6))\n",
    "plt.title('Répartition des séries télévisées et des films ajoutés par année')\n",
    "plt.xlabel('Année')\n",
    "plt.ylabel('Nombre de contenus')\n",
    "plt.legend(title='Type de contenu')\n",
    "plt.show()\n"
   ]
  },
  {
   "cell_type": "code",
   "execution_count": null,
   "id": "d25934db-adb1-4b2f-99a6-59f649ab1ef6",
   "metadata": {},
   "outputs": [],
   "source": []
  }
 ],
 "metadata": {
  "kernelspec": {
   "display_name": "Python 3 (ipykernel)",
   "language": "python",
   "name": "python3"
  },
  "language_info": {
   "codemirror_mode": {
    "name": "ipython",
    "version": 3
   },
   "file_extension": ".py",
   "mimetype": "text/x-python",
   "name": "python",
   "nbconvert_exporter": "python",
   "pygments_lexer": "ipython3",
   "version": "3.12.2"
  }
 },
 "nbformat": 4,
 "nbformat_minor": 5
}
